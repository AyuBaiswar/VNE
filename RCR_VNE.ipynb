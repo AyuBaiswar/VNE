{
 "cells": [
  {
   "cell_type": "code",
   "execution_count": 1,
   "id": "ba8595b6",
   "metadata": {},
   "outputs": [],
   "source": [
    "import networkx as nx"
   ]
  },
  {
   "cell_type": "code",
   "execution_count": 2,
   "id": "f441b3e0",
   "metadata": {},
   "outputs": [],
   "source": [
    "#substrate graph "
   ]
  },
  {
   "cell_type": "code",
   "execution_count": 3,
   "id": "48b6240a",
   "metadata": {},
   "outputs": [],
   "source": [
    "Gs = nx.Graph()\n",
    "Gs.add_nodes_from([1,2,3,4,5,6],cpu=20,st=20)\n",
    "Gs.nodes[3]['st']=17\n",
    "Gs.nodes[4]['st']=16\n",
    "Gs.nodes[5]['st']=15\n",
    "#add edges\n",
    "Gs.add_edges_from([(1, 2),(1,6),(2,3),(2,5),(3,4),(4,5),(5,6)], weight=20 )"
   ]
  },
  {
   "cell_type": "code",
   "execution_count": 4,
   "id": "1879b284",
   "metadata": {},
   "outputs": [
    {
     "data": {
      "text/plain": [
       "{(1, 2): Text(0.7499999888241293, 0.433012741974907, '20'),\n",
       " (1, 6): Text(0.7499999590218074, -0.43301269296576733, '20'),\n",
       " (2, 3): Text(-2.9802321943606103e-08, 0.8660254296429223, '20'),\n",
       " (2, 5): Text(4.4703482915409154e-08, 2.4504569873240456e-08, '20'),\n",
       " (3, 4): Text(-0.7500000037252903, 0.43301266846119746, '20'),\n",
       " (4, 5): Text(-0.7499999292194854, -0.43301273667715495, '20'),\n",
       " (5, 6): Text(1.4901160971803051e-08, -0.8660254104361045, '20')}"
      ]
     },
     "execution_count": 4,
     "metadata": {},
     "output_type": "execute_result"
    },
    {
     "data": {
      "image/png": "[encoded data removed]",
      "text/plain": [
       "<Figure size 432x288 with 1 Axes>"
      ]
     },
     "metadata": {},
     "output_type": "display_data"
    }
   ],
   "source": [
    "#nx.draw(Gs, with_labels=True, font_weight='bold')\n",
    "#pos = nx.spring_layout(Gs, k=20)  # For better example looking\n",
    "pos = nx.circular_layout(Gs, scale=1, center=None, dim=2)\n",
    "nx.draw(Gs, pos, with_labels=True)\n",
    "labels = {e: Gs.edges[e]['weight'] for e in Gs.edges}\n",
    "nx.draw_networkx_edge_labels(Gs, pos, edge_labels=labels)"
   ]
  },
  {
   "cell_type": "code",
   "execution_count": 5,
   "id": "3d1c8f60",
   "metadata": {},
   "outputs": [],
   "source": [
    "#request graph"
   ]
  },
  {
   "cell_type": "code",
   "execution_count": 6,
   "id": "c7e83178",
   "metadata": {},
   "outputs": [],
   "source": [
    "Gv = nx.Graph()\n",
    "Gv.add_node(1,cpu=5,st=5)\n",
    "Gv.add_node(2,cpu=4,st=4)\n",
    "Gv.add_node(3,cpu=3,st=3)\n",
    "#add edges\n",
    "Gv.add_edges_from([(1,2),(2,3),(3,1)],weight=2)"
   ]
  },
  {
   "cell_type": "code",
   "execution_count": 7,
   "id": "cca68be2",
   "metadata": {},
   "outputs": [
    {
     "data": {
      "text/plain": [
       "{(1, 2): Text(0.7499999888241293, 0.433012741974907, '2'),\n",
       " (1, 3): Text(0.24999998137354879, 0.4330127121725851, '2'),\n",
       " (2, 3): Text(-2.9802321943606103e-08, 0.8660254296429223, '2')}"
      ]
     },
     "execution_count": 7,
     "metadata": {},
     "output_type": "execute_result"
    },
    {
     "data": {
      "image/png": "[encoded data removed]",
      "text/plain": [
       "<Figure size 432x288 with 1 Axes>"
      ]
     },
     "metadata": {},
     "output_type": "display_data"
    }
   ],
   "source": [
    "#pos = nx.spring_layout(Gs, k=20)  # For better example looking\n",
    "pos = nx.circular_layout(Gs, scale=1, center=None, dim=2)\n",
    "nx.draw(Gv, pos, with_labels=True)\n",
    "labels = {e: Gv.edges[e]['weight'] for e in Gv.edges}\n",
    "nx.draw_networkx_edge_labels(Gv, pos, edge_labels=labels)"
   ]
  },
  {
   "cell_type": "code",
   "execution_count": 8,
   "id": "62073d99",
   "metadata": {},
   "outputs": [
    {
     "name": "stdout",
     "output_type": "stream",
     "text": [
      "\n"
     ]
    }
   ],
   "source": [
    "Gv2 = nx.Graph()\n",
    "Gv2.add_node(1,cpu=9,st=9)\n",
    "Gv2.add_node(2,cpu=7,st=7)\n",
    "Gv2.add_node(3,cpu=8,st=8)\n",
    "Gv2.add_node(4,cpu=10,st=10)\n",
    "#add edges\n",
    "Gv2.add_edges_from([(1,2),(2,3),(3,1),(3,4),(4,1)],weight=5)\n",
    "Gv2[1][2]['weight']=6\n",
    "Gv2[3][4]['weight']=2\n",
    "print()"
   ]
  },
  {
   "cell_type": "code",
   "execution_count": 9,
   "id": "3d8d6bad",
   "metadata": {},
   "outputs": [
    {
     "data": {
      "text/plain": [
       "{(1, 2): Text(0.7499999888241293, 0.433012741974907, '6'),\n",
       " (1, 3): Text(0.24999998137354879, 0.4330127121725851, '5'),\n",
       " (1, 4): Text(1.4901160971803051e-08, -1.9206817775722963e-08, '5'),\n",
       " (2, 3): Text(-2.9802321943606103e-08, 0.8660254296429223, '5'),\n",
       " (3, 4): Text(-0.7500000037252903, 0.43301266846119746, '2')}"
      ]
     },
     "execution_count": 9,
     "metadata": {},
     "output_type": "execute_result"
    },
    {
     "data": {
      "image/png": "[encoded data removed]",
      "text/plain": [
       "<Figure size 432x288 with 1 Axes>"
      ]
     },
     "metadata": {},
     "output_type": "display_data"
    }
   ],
   "source": [
    "#pos = nx.spring_layout(Gv2, k=20)  # For better example looking\n",
    "pos = nx.circular_layout(Gs, scale=1, center=None, dim=2)\n",
    "nx.draw(Gv2, pos, with_labels=True)\n",
    "labels = {e: Gv2.edges[e]['weight'] for e in Gv2.edges}\n",
    "nx.draw_networkx_edge_labels(Gv2, pos, edge_labels=labels)"
   ]
  },
  {
   "cell_type": "code",
   "execution_count": 10,
   "id": "ef010fb0",
   "metadata": {},
   "outputs": [],
   "source": [
    "GVs = [Gv,Gv2]"
   ]
  },
  {
   "cell_type": "code",
   "execution_count": 11,
   "id": "aa2fff5b",
   "metadata": {},
   "outputs": [],
   "source": [
    "#RCR ratio\n",
    "def RCR(network):\n",
    "    temp = []\n",
    "    for node in network.nodes(data=True):\n",
    "        rcr = node[1]['cpu']/node[1]['st']\n",
    "        temp.append((rcr,node[0]))\n",
    "    return sorted(temp,reverse=True)"
   ]
  },
  {
   "cell_type": "code",
   "execution_count": 12,
   "id": "ee1a30b4",
   "metadata": {},
   "outputs": [],
   "source": [
    "#Node Rank Metric\n",
    "def NRM(network):\n",
    "    temp = []\n",
    "    for node in network.nodes(data=True):\n",
    "        sum_edge = 0\n",
    "        for edge in network.edges(node[0],data=True):\n",
    "            sum_edge = sum_edge + edge[2]['weight']\n",
    "        met = (node[1]['cpu']+node[1]['st'])*(sum_edge)\n",
    "        temp.append((met,node[0]))\n",
    "    return sorted(temp,reverse=True)"
   ]
  },
  {
   "cell_type": "code",
   "execution_count": 13,
   "id": "69889225",
   "metadata": {},
   "outputs": [],
   "source": [
    "def node_ranking(fGv):\n",
    "    rcr_s = RCR(Gs)\n",
    "    met_v = NRM(fGv)\n",
    "    mapped = []\n",
    "    mapping = []\n",
    "    for node_v in met_v:\n",
    "        n = fGv.nodes[node_v[1]]\n",
    "        rcr_v = n['cpu']/n['st']\n",
    "        diff = 10000 \n",
    "        nv = -1 #virtual_node_num\n",
    "        ns = -1 #substrate_node_num\n",
    "        for node in rcr_s:\n",
    "            if (node[1] not in mapped) and diff>(abs(rcr_v - node[0])) and Gs.nodes(data=True)[node[1]]['cpu']>=fGv.nodes(data=True)[node_v[1]]['cpu'] and Gs.nodes(data=True)[node[1]]['st']>=fGv.nodes(data=True)[node_v[1]]['st']:\n",
    "                diff = abs(rcr_v - node[0]) #finding node with minimum difference in RCR of virtual node and substrate node\n",
    "                ns = node[1]\n",
    "                nv = node_v[1]\n",
    "        if(ns == -1):\n",
    "            return False, mapping\n",
    "        \n",
    "        mapped.append(ns)\n",
    "        mapping.append({'Nv':nv,'Ns':ns})\n",
    "    if(len(met_v)==len(mapped)):\n",
    "        return True, mapping\n",
    "    return False, mapping"
   ]
  },
  {
   "cell_type": "code",
   "execution_count": 14,
   "id": "92c7e705",
   "metadata": {},
   "outputs": [],
   "source": [
    "def link_mapping(Vmap,fGv):\n",
    "    edges=sorted(fGv.edges(data=True), key=lambda t: t[2].get('weight', 1), reverse=True)\n",
    "    mapping = []\n",
    "    name_indexer = dict((p['Nv'], i) for i, p in enumerate(Vmap))\n",
    "    for edge in edges:\n",
    "        n1 = Vmap[name_indexer.get(edge[0])]['Ns']\n",
    "        n2 = Vmap[name_indexer.get(edge[1])]['Ns']\n",
    "        flag = 0\n",
    "        rmv = []\n",
    "        for e in list(Gs.edges(data=True)):\n",
    "            print('-----------------')\n",
    "            print(edge)\n",
    "            print(e)\n",
    "            print('-----------------')\n",
    "            if e[2]['weight']<edge[2]['weight']:\n",
    "                rmv.append(e)\n",
    "                Gs.remove_edge(e[0],e[1])\n",
    "        path = []\n",
    "        #Find the shortest path\n",
    "        if(nx.has_path(Gs,n1,n2)):\n",
    "            path = nx.dijkstra_path(Gs,n1,n2,weight = 'weight')\n",
    "        \n",
    "        #Add the removed edges\n",
    "        for ix in rmv:\n",
    "            Gs.add_edge(ix[0],ix[1],weight=ix[2])\n",
    "            \n",
    "        if(len(path)==0):\n",
    "            return False, []\n",
    "        \n",
    "        mapping.append([edge,path])\n",
    "    \n",
    "    for p in mapping: \n",
    "        for i in range(1,len(p[1])):\n",
    "            Gs[p[1][i-1]][p[1][i]]['weight'] = Gs[p[1][i-1]][p[1][i]]['weight'] - p[0][2]['weight']\n",
    "    return True, mapping"
   ]
  },
  {
   "cell_type": "code",
   "execution_count": 15,
   "id": "eb4a0430",
   "metadata": {},
   "outputs": [],
   "source": [
    "def RCR_VNE(Gvs):\n",
    "    rejected = 0\n",
    "    accepted = 0\n",
    "    count = 1\n",
    "    for NRM_Gv in Gvs:\n",
    "        print('Vnet_'+str(count)+':')\n",
    "        flag, Vmap = node_ranking(NRM_Gv)\n",
    "        if(not flag):\n",
    "            print('Not mapped')\n",
    "            rejected = rejected + 1\n",
    "            continue\n",
    "        flag, Emap = link_mapping(Vmap,NRM_Gv)\n",
    "        if(not flag):\n",
    "            print('Not mapped')\n",
    "            rejected = rejected + 1\n",
    "            continue\n",
    "        accepted = accepted +1\n",
    "        #updating the Substrate graph CPU and Storage\n",
    "        for node in Vmap:\n",
    "            Gs.nodes(data=True)[node['Ns']]['cpu'] = Gs.nodes(data=True)[node['Ns']]['cpu'] - NRM_Gv.nodes(data=True)[node['Nv']]['cpu']\n",
    "            Gs.nodes(data=True)[node['Ns']]['st'] = Gs.nodes(data=True)[node['Ns']]['st'] - NRM_Gv.nodes(data=True)[node['Nv']]['st']\n",
    "        \n",
    "        print(Vmap)\n",
    "        print(Emap)\n",
    "        count = count+1\n",
    "    print('Acceptance Ratio:' + str(accepted/len(Gvs)))"
   ]
  },
  {
   "cell_type": "code",
   "execution_count": 16,
   "id": "81d4bb5a",
   "metadata": {},
   "outputs": [
    {
     "name": "stdout",
     "output_type": "stream",
     "text": [
      "Vnet_1:\n",
      "-----------------\n",
      "(1, 2, {'weight': 2})\n",
      "(1, 2, {'weight': 20})\n",
      "-----------------\n",
      "-----------------\n",
      "(1, 2, {'weight': 2})\n",
      "(1, 6, {'weight': 20})\n",
      "-----------------\n",
      "-----------------\n",
      "(1, 2, {'weight': 2})\n",
      "(2, 3, {'weight': 20})\n",
      "-----------------\n",
      "-----------------\n",
      "(1, 2, {'weight': 2})\n",
      "(2, 5, {'weight': 20})\n",
      "-----------------\n",
      "-----------------\n",
      "(1, 2, {'weight': 2})\n",
      "(3, 4, {'weight': 20})\n",
      "-----------------\n",
      "-----------------\n",
      "(1, 2, {'weight': 2})\n",
      "(4, 5, {'weight': 20})\n",
      "-----------------\n",
      "-----------------\n",
      "(1, 2, {'weight': 2})\n",
      "(5, 6, {'weight': 20})\n",
      "-----------------\n",
      "-----------------\n",
      "(1, 3, {'weight': 2})\n",
      "(1, 2, {'weight': 20})\n",
      "-----------------\n",
      "-----------------\n",
      "(1, 3, {'weight': 2})\n",
      "(1, 6, {'weight': 20})\n",
      "-----------------\n",
      "-----------------\n",
      "(1, 3, {'weight': 2})\n",
      "(2, 3, {'weight': 20})\n",
      "-----------------\n",
      "-----------------\n",
      "(1, 3, {'weight': 2})\n",
      "(2, 5, {'weight': 20})\n",
      "-----------------\n",
      "-----------------\n",
      "(1, 3, {'weight': 2})\n",
      "(3, 4, {'weight': 20})\n",
      "-----------------\n",
      "-----------------\n",
      "(1, 3, {'weight': 2})\n",
      "(4, 5, {'weight': 20})\n",
      "-----------------\n",
      "-----------------\n",
      "(1, 3, {'weight': 2})\n",
      "(5, 6, {'weight': 20})\n",
      "-----------------\n",
      "-----------------\n",
      "(2, 3, {'weight': 2})\n",
      "(1, 2, {'weight': 20})\n",
      "-----------------\n",
      "-----------------\n",
      "(2, 3, {'weight': 2})\n",
      "(1, 6, {'weight': 20})\n",
      "-----------------\n",
      "-----------------\n",
      "(2, 3, {'weight': 2})\n",
      "(2, 3, {'weight': 20})\n",
      "-----------------\n",
      "-----------------\n",
      "(2, 3, {'weight': 2})\n",
      "(2, 5, {'weight': 20})\n",
      "-----------------\n",
      "-----------------\n",
      "(2, 3, {'weight': 2})\n",
      "(3, 4, {'weight': 20})\n",
      "-----------------\n",
      "-----------------\n",
      "(2, 3, {'weight': 2})\n",
      "(4, 5, {'weight': 20})\n",
      "-----------------\n",
      "-----------------\n",
      "(2, 3, {'weight': 2})\n",
      "(5, 6, {'weight': 20})\n",
      "-----------------\n",
      "[{'Nv': 1, 'Ns': 6}, {'Nv': 2, 'Ns': 2}, {'Nv': 3, 'Ns': 1}]\n",
      "[[(1, 2, {'weight': 2}), [6, 1, 2]], [(1, 3, {'weight': 2}), [6, 1]], [(2, 3, {'weight': 2}), [2, 1]]]\n",
      "Vnet_2:\n",
      "-----------------\n",
      "(1, 2, {'weight': 6})\n",
      "(1, 2, {'weight': 16})\n",
      "-----------------\n",
      "-----------------\n",
      "(1, 2, {'weight': 6})\n",
      "(1, 6, {'weight': 16})\n",
      "-----------------\n",
      "-----------------\n",
      "(1, 2, {'weight': 6})\n",
      "(2, 3, {'weight': 20})\n",
      "-----------------\n",
      "-----------------\n",
      "(1, 2, {'weight': 6})\n",
      "(2, 5, {'weight': 20})\n",
      "-----------------\n",
      "-----------------\n",
      "(1, 2, {'weight': 6})\n",
      "(3, 4, {'weight': 20})\n",
      "-----------------\n",
      "-----------------\n",
      "(1, 2, {'weight': 6})\n",
      "(4, 5, {'weight': 20})\n",
      "-----------------\n",
      "-----------------\n",
      "(1, 2, {'weight': 6})\n",
      "(5, 6, {'weight': 20})\n",
      "-----------------\n",
      "-----------------\n",
      "(1, 3, {'weight': 5})\n",
      "(1, 2, {'weight': 16})\n",
      "-----------------\n",
      "-----------------\n",
      "(1, 3, {'weight': 5})\n",
      "(1, 6, {'weight': 16})\n",
      "-----------------\n",
      "-----------------\n",
      "(1, 3, {'weight': 5})\n",
      "(2, 3, {'weight': 20})\n",
      "-----------------\n",
      "-----------------\n",
      "(1, 3, {'weight': 5})\n",
      "(2, 5, {'weight': 20})\n",
      "-----------------\n",
      "-----------------\n",
      "(1, 3, {'weight': 5})\n",
      "(3, 4, {'weight': 20})\n",
      "-----------------\n",
      "-----------------\n",
      "(1, 3, {'weight': 5})\n",
      "(4, 5, {'weight': 20})\n",
      "-----------------\n",
      "-----------------\n",
      "(1, 3, {'weight': 5})\n",
      "(5, 6, {'weight': 20})\n",
      "-----------------\n",
      "-----------------\n",
      "(1, 4, {'weight': 5})\n",
      "(1, 2, {'weight': 16})\n",
      "-----------------\n",
      "-----------------\n",
      "(1, 4, {'weight': 5})\n",
      "(1, 6, {'weight': 16})\n",
      "-----------------\n",
      "-----------------\n",
      "(1, 4, {'weight': 5})\n",
      "(2, 3, {'weight': 20})\n",
      "-----------------\n",
      "-----------------\n",
      "(1, 4, {'weight': 5})\n",
      "(2, 5, {'weight': 20})\n",
      "-----------------\n",
      "-----------------\n",
      "(1, 4, {'weight': 5})\n",
      "(3, 4, {'weight': 20})\n",
      "-----------------\n",
      "-----------------\n",
      "(1, 4, {'weight': 5})\n",
      "(4, 5, {'weight': 20})\n",
      "-----------------\n",
      "-----------------\n",
      "(1, 4, {'weight': 5})\n",
      "(5, 6, {'weight': 20})\n",
      "-----------------\n",
      "-----------------\n",
      "(2, 3, {'weight': 5})\n",
      "(1, 2, {'weight': 16})\n",
      "-----------------\n",
      "-----------------\n",
      "(2, 3, {'weight': 5})\n",
      "(1, 6, {'weight': 16})\n",
      "-----------------\n",
      "-----------------\n",
      "(2, 3, {'weight': 5})\n",
      "(2, 3, {'weight': 20})\n",
      "-----------------\n",
      "-----------------\n",
      "(2, 3, {'weight': 5})\n",
      "(2, 5, {'weight': 20})\n",
      "-----------------\n",
      "-----------------\n",
      "(2, 3, {'weight': 5})\n",
      "(3, 4, {'weight': 20})\n",
      "-----------------\n",
      "-----------------\n",
      "(2, 3, {'weight': 5})\n",
      "(4, 5, {'weight': 20})\n",
      "-----------------\n",
      "-----------------\n",
      "(2, 3, {'weight': 5})\n",
      "(5, 6, {'weight': 20})\n",
      "-----------------\n",
      "-----------------\n",
      "(3, 4, {'weight': 2})\n",
      "(1, 2, {'weight': 16})\n",
      "-----------------\n",
      "-----------------\n",
      "(3, 4, {'weight': 2})\n",
      "(1, 6, {'weight': 16})\n",
      "-----------------\n",
      "-----------------\n",
      "(3, 4, {'weight': 2})\n",
      "(2, 3, {'weight': 20})\n",
      "-----------------\n",
      "-----------------\n",
      "(3, 4, {'weight': 2})\n",
      "(2, 5, {'weight': 20})\n",
      "-----------------\n",
      "-----------------\n",
      "(3, 4, {'weight': 2})\n",
      "(3, 4, {'weight': 20})\n",
      "-----------------\n",
      "-----------------\n",
      "(3, 4, {'weight': 2})\n",
      "(4, 5, {'weight': 20})\n",
      "-----------------\n",
      "-----------------\n",
      "(3, 4, {'weight': 2})\n",
      "(5, 6, {'weight': 20})\n",
      "-----------------\n",
      "[{'Nv': 1, 'Ns': 6}, {'Nv': 3, 'Ns': 2}, {'Nv': 2, 'Ns': 1}, {'Nv': 4, 'Ns': 3}]\n",
      "[[(1, 2, {'weight': 6}), [6, 1]], [(1, 3, {'weight': 5}), [6, 1, 2]], [(1, 4, {'weight': 5}), [6, 1, 2, 3]], [(2, 3, {'weight': 5}), [1, 2]], [(3, 4, {'weight': 2}), [2, 3]]]\n",
      "Acceptance Ratio:1.0\n"
     ]
    }
   ],
   "source": [
    "RCR_VNE(GVs)"
   ]
  },
  {
   "cell_type": "code",
   "execution_count": 17,
   "id": "10a2f609",
   "metadata": {},
   "outputs": [
    {
     "data": {
      "text/plain": [
       "{(1, 2): Text(0.7499999888241293, 0.433012741974907, '1'),\n",
       " (1, 6): Text(0.7499999590218074, -0.43301269296576733, '0'),\n",
       " (2, 3): Text(-2.9802321943606103e-08, 0.8660254296429223, '13'),\n",
       " (2, 5): Text(4.4703482915409154e-08, 2.4504569873240456e-08, '20'),\n",
       " (3, 4): Text(-0.7500000037252903, 0.43301266846119746, '20'),\n",
       " (4, 5): Text(-0.7499999292194854, -0.43301273667715495, '20'),\n",
       " (5, 6): Text(1.4901160971803051e-08, -0.8660254104361045, '20')}"
      ]
     },
     "execution_count": 17,
     "metadata": {},
     "output_type": "execute_result"
    },
    {
     "data": {
      "image/png": "[encoded data removed]",
      "text/plain": [
       "<Figure size 432x288 with 1 Axes>"
      ]
     },
     "metadata": {},
     "output_type": "display_data"
    }
   ],
   "source": [
    "#pos = nx.spring_layout(Gs, k=20)  # For better example looking\n",
    "pos = nx.circular_layout(Gs, scale=1, center=None, dim=2)\n",
    "nx.draw(Gs, pos, with_labels=True)\n",
    "labels = {e: Gs.edges[e]['weight'] for e in Gs.edges}\n",
    "nx.draw_networkx_edge_labels(Gs, pos, edge_labels=labels)"
   ]
  },
  {
   "cell_type": "code",
   "execution_count": 18,
   "id": "c45c9488",
   "metadata": {},
   "outputs": [
    {
     "data": {
      "text/plain": [
       "NodeDataView({1: {'cpu': 10, 'st': 10}, 2: {'cpu': 8, 'st': 8}, 3: {'cpu': 10, 'st': 7}, 4: {'cpu': 20, 'st': 16}, 5: {'cpu': 20, 'st': 15}, 6: {'cpu': 6, 'st': 6}})"
      ]
     },
     "execution_count": 18,
     "metadata": {},
     "output_type": "execute_result"
    }
   ],
   "source": [
    "Gs.nodes(data=True)"
   ]
  },
  {
   "cell_type": "code",
   "execution_count": 19,
   "id": "d6318f31",
   "metadata": {},
   "outputs": [
    {
     "data": {
      "text/plain": [
       "EdgeDataView([(1, 2, {'weight': 1}), (1, 6, {'weight': 0}), (2, 3, {'weight': 13}), (2, 5, {'weight': 20}), (3, 4, {'weight': 20}), (4, 5, {'weight': 20}), (5, 6, {'weight': 20})])"
      ]
     },
     "execution_count": 19,
     "metadata": {},
     "output_type": "execute_result"
    }
   ],
   "source": [
    "Gs.edges(data=True)"
   ]
  },
  {
   "cell_type": "code",
   "execution_count": null,
   "id": "8cc4cf0e",
   "metadata": {},
   "outputs": [],
   "source": []
  }
 ],
 "metadata": {
  "kernelspec": {
   "display_name": "Python 3 (ipykernel)",
   "language": "python",
   "name": "python3"
  },
  "language_info": {
   "codemirror_mode": {
    "name": "ipython",
    "version": 3
   },
   "file_extension": ".py",
   "mimetype": "text/x-python",
   "name": "python",
   "nbconvert_exporter": "python",
   "pygments_lexer": "ipython3",
   "version": "3.9.7"
  }
 },
 "nbformat": 4,
 "nbformat_minor": 5
}
